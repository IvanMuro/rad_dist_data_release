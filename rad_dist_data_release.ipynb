{
 "cells": [
  {
   "cell_type": "markdown",
   "id": "0a5023dd",
   "metadata": {},
   "source": [
    "# Imports"
   ]
  },
  {
   "cell_type": "code",
   "execution_count": null,
   "id": "5b8dd33a",
   "metadata": {
    "ExecuteTime": {
     "end_time": "2024-06-10T09:16:34.383797Z",
     "start_time": "2024-06-10T09:16:34.365999Z"
    }
   },
   "outputs": [],
   "source": [
    "%load_ext autoreload\n",
    "%autoreload 2"
   ]
  },
  {
   "cell_type": "code",
   "execution_count": null,
   "id": "floppy-nickel",
   "metadata": {
    "ExecuteTime": {
     "end_time": "2024-06-10T09:16:35.716702Z",
     "start_time": "2024-06-10T09:16:34.386473Z"
    }
   },
   "outputs": [],
   "source": [
    "import glob\n",
    "import logging\n",
    "\n",
    "from astropy import constants as const\n",
    "from astropy import units as u\n",
    "\n",
    "import cmasher as cmr\n",
    "\n",
    "from colossus.cosmology import cosmology\n",
    "from colossus.halo import mass_defs\n",
    "from colossus.lss import mass_function\n",
    "\n",
    "import matplotlib.pyplot as plt\n",
    "import matplotlib.gridspec as gridspec\n",
    "import matplotlib.patches as mpatches\n",
    "import matplotlib.colors as mp_colors\n",
    "import matplotlib.cm as cmx\n",
    "\n",
    "import numpy as np\n",
    "\n",
    "import pandas as pd\n",
    "pd.set_option('max_columns', None)\n",
    "\n",
    "import mockUniv.calc_rad_paper.fun_sum_area as fun_sum_area #fun_distrib_paper as calc_distrib\n",
    "import mockUniv.calc_rad_paper.calc as calc\n",
    "import mockUniv.calc_rad_paper.fun_significance as fun_significance"
   ]
  },
  {
   "cell_type": "markdown",
   "id": "japanese-andrews",
   "metadata": {},
   "source": [
    "# Read data \n",
    "\n",
    "The light cones are going to be stores in a dictionary. In the next block of code we define the keys to access the different cluster ids (`7830644447` and `7793510527`), the light cones type either cluster (`c_rand`) or field (`f_rand`), the name of the observed clusters corresponding to the different area curves and the energy bands of the observations. In the paper we only use full band but in the data release we also provide hard and soft bands, you can include them in the variable `bands`. \n",
    "\n",
    "We also define the cosmology (needed to calculate masses conversions), and the redshift of the clusters."
   ]
  },
  {
   "cell_type": "code",
   "execution_count": null,
   "id": "republican-converter",
   "metadata": {
    "ExecuteTime": {
     "end_time": "2024-06-10T09:16:35.731881Z",
     "start_time": "2024-06-10T09:16:35.718812Z"
    }
   },
   "outputs": [],
   "source": [
    "id_lst = ['7830644447', '7793510527'] \n",
    "\n",
    "lc_type_lst = ['c_rand', 'f_rand']\n",
    "\n",
    "date_lst = {'7830644447':['20231123', '20231123'],\n",
    "            '7793510527':['20231121', '20231121'],\n",
    "}\n",
    "\n",
    "desire_redshift = 0.972    \n",
    "cosmo = cosmology.setCosmology('planck18')\n",
    "\n",
    "clustname_lst = ['SPT-CLJ2146-4633', 'PLCKG266.6-27.3']\n",
    "corename = ['13469','pl26'] \n",
    "bands = ['full']"
   ]
  },
  {
   "cell_type": "markdown",
   "id": "fbabf47d",
   "metadata": {},
   "source": [
    "We load the light cones, you can download the data form [Zenodo](https://zenodo.org/uploads/11446317). **Remember to change variable `pth` to your location of the data**"
   ]
  },
  {
   "cell_type": "code",
   "execution_count": null,
   "id": "3665ea58",
   "metadata": {
    "ExecuteTime": {
     "end_time": "2024-06-10T09:16:42.891405Z",
     "start_time": "2024-06-10T09:16:35.734259Z"
    },
    "scrolled": true
   },
   "outputs": [],
   "source": [
    "pth = './input/lc_rad_dst/'\n",
    "\n",
    "num_obs = 100\n",
    "\n",
    "lc_sample_list_csv = {}\n",
    "\n",
    "for lc_list in id_lst:\n",
    "    lc_sample_list_csv.update({ f'{lc_list}':{} })\n",
    "    print(lc_list)\n",
    "    for loop, lc_type in enumerate(['c_rand', 'f_rand']):\n",
    "        lc_sample_list_csv[lc_list].update({f'{lc_type}':[] })\n",
    "        kk = lc_type.split('_')[0]\n",
    "        strng = kk + f'_{date_lst[lc_list][loop]}'\n",
    "\n",
    "        for lc_pth in sorted(glob.glob(pth + f'{lc_list}/{strng}/lc_???_drop.h5')):\n",
    "            lc = pd.read_hdf(lc_pth, 'df')\n",
    "            lc_sample_list_csv[lc_list][lc_type].append(lc)\n",
    "            print(f'\\t{lc_pth}')"
   ]
  },
  {
   "cell_type": "markdown",
   "id": "53ac06f8",
   "metadata": {},
   "source": [
    "We read the observational data points "
   ]
  },
  {
   "cell_type": "code",
   "execution_count": null,
   "id": "8509dd45",
   "metadata": {
    "ExecuteTime": {
     "end_time": "2024-06-10T09:16:42.914624Z",
     "start_time": "2024-06-10T09:16:42.893452Z"
    },
    "scrolled": true
   },
   "outputs": [],
   "source": [
    "rad_distrib_obs = {}\n",
    "for loop_clust, clust_name in enumerate(clustname_lst):\n",
    "    for energy_band in bands:  \n",
    "        file = f'./input/rad_dst_obs/rad_distrib_{clustname_lst[loop_clust]}_{energy_band}.dat'\n",
    "        print(clust_name, file)\n",
    "        rad_distrib_obs.update({ f'{corename[loop_clust]}_{energy_band}': pd.read_csv(file, sep=';') })"
   ]
  },
  {
   "cell_type": "markdown",
   "id": "relative-connectivity",
   "metadata": {},
   "source": [
    "# Annulus def.\n",
    "\n",
    "The following block of code define $R_{500}$ corresponding to the different clusters in **physical Mpc**."
   ]
  },
  {
   "cell_type": "code",
   "execution_count": null,
   "id": "danish-wales",
   "metadata": {
    "ExecuteTime": {
     "end_time": "2024-06-10T09:16:42.949355Z",
     "start_time": "2024-06-10T09:16:42.916695Z"
    }
   },
   "outputs": [],
   "source": [
    "r_dict = {}\n",
    "\n",
    "for id_obj in id_lst:\n",
    "    print(id_obj)\n",
    "    m_id = lc_sample_list_csv[f'{id_obj}']['c_rand'][0]['id'] == int(id_obj)\n",
    "    cvir = 10.0**(0.7) \n",
    "    Mvir = float(10**lc_sample_list_csv[f'{id_obj}']['c_rand'][0][m_id]['lgm'])\n",
    "    print('lgM_vir=', np.log10(Mvir))\n",
    "    print('R_vir (comoving kpc/h)=', float(lc_sample_list_csv[f'{id_obj}']['c_rand'][0][m_id]['r']) )\n",
    "    M500c, R500c, c500c = mass_defs.changeMassDefinition(Mvir, \n",
    "                                                         cvir, \n",
    "                                                         desire_redshift,\n",
    "                                                         'vir', \n",
    "                                                         '500c')\n",
    "    print( 'lgM_500=', np.log10(M500c) )\n",
    "    print( 'R_500 (phys kpc/h)=', R500c ) \n",
    "    \n",
    "    r_dict.update({ f'{id_obj}': R500c*u.kpc.to(u.Mpc)/cosmo.h})\n",
    "    print()\n",
    "r_dict"
   ]
  },
  {
   "cell_type": "markdown",
   "id": "ec567094",
   "metadata": {
    "ExecuteTime": {
     "end_time": "2024-06-10T07:51:20.656977Z",
     "start_time": "2024-06-10T07:51:20.651416Z"
    }
   },
   "source": [
    "def get_annuli_rad(r, desire_z, cosmo):\n",
    "    \"\"\"\n",
    "    Function that calculates the anulii in angular size for a given radius.\n",
    "    \"\"\"\n",
    "    annulus_radius = r * np.arange(0, 5.5, 0.5) / cosmo.angularDiameterDistance(desire_z)*u.rad\n",
    "    return annulus_radius"
   ]
  },
  {
   "cell_type": "markdown",
   "id": "29ef141f",
   "metadata": {},
   "source": [
    "We transform the physical size of the cluster to angular size and we define the different anulii"
   ]
  },
  {
   "cell_type": "code",
   "execution_count": null,
   "id": "arranged-marks",
   "metadata": {
    "ExecuteTime": {
     "end_time": "2024-06-10T09:17:30.988274Z",
     "start_time": "2024-06-10T09:17:30.943947Z"
    }
   },
   "outputs": [],
   "source": [
    "annulus_radius_dict = {}\n",
    "\n",
    "for id_obj in id_lst: \n",
    "    annulus_radius = calc.get_annuli_rad(\n",
    "        r_dict[id_obj] * cosmo.h,\n",
    "        desire_redshift,\n",
    "        cosmo\n",
    "    )\n",
    "    annulus_radius_dict.update({f'{id_obj}': annulus_radius})\n",
    "annulus_radius_dict[id_lst[0]].to(u.arcmin)"
   ]
  },
  {
   "cell_type": "markdown",
   "id": "declared-cookie",
   "metadata": {},
   "source": [
    "# Summed area\n",
    "\n",
    "Sum the area of individual objects per ring $\\rightarrow$ total area per ring per lc"
   ]
  },
  {
   "cell_type": "code",
   "execution_count": null,
   "id": "divided-hamburg",
   "metadata": {
    "ExecuteTime": {
     "end_time": "2024-06-10T09:17:53.357523Z",
     "start_time": "2024-06-10T09:17:33.352899Z"
    },
    "scrolled": true
   },
   "outputs": [],
   "source": [
    "sum_area_model_dict_ids = {}\n",
    "models = ['AMedian', 'GMedian'] \n",
    "models_f = ['AMedian', 'GMedian']\n",
    "\n",
    "for id_obj in id_lst:\n",
    "    print(f'{id_obj}')\n",
    "    sum_area_model_dict_ids.update(\n",
    "        {f'{id_obj}': fun_sum_area.sum_area_ids(corename, \n",
    "                                   bands, \n",
    "                                   lc_sample_list_csv[f'{id_obj}'],\n",
    "                                   annulus_radius_dict[id_obj], \n",
    "                                   models,\n",
    "                                   models_f=models_f\n",
    "                    )\n",
    "        }\n",
    ")"
   ]
  },
  {
   "cell_type": "code",
   "execution_count": null,
   "id": "acceptable-insulin",
   "metadata": {
    "ExecuteTime": {
     "end_time": "2024-06-10T09:17:53.380909Z",
     "start_time": "2024-06-10T09:17:53.360320Z"
    },
    "code_folding": [],
    "scrolled": true
   },
   "outputs": [],
   "source": [
    "num_obs = 100\n",
    "\n",
    "sum_area_field_model_suffle_dict_ids = {}\n",
    "for id_obj in id_lst: \n",
    "    print(f'{id_obj}')\n",
    "    sum_area_field_model_suffle_dict_ids.update( \n",
    "                             {f'{id_obj}': fun_sum_area.get_sum_area_field_suffle_ids(\n",
    "                                 num_obs, corename, bands, sum_area_model_dict_ids[f'{id_obj}'], models_f\n",
    "                                ) \n",
    "                             }\n",
    ")    "
   ]
  },
  {
   "cell_type": "markdown",
   "id": "killing-worthy",
   "metadata": {},
   "source": [
    "# Peak signif."
   ]
  },
  {
   "cell_type": "code",
   "execution_count": null,
   "id": "polished-marker",
   "metadata": {
    "ExecuteTime": {
     "end_time": "2024-06-10T09:17:53.466538Z",
     "start_time": "2024-06-10T09:17:53.382720Z"
    },
    "scrolled": true
   },
   "outputs": [],
   "source": [
    "xplot = (np.arange(0, 7.5, .5)[1:] + np.arange(0, 7.5, .5)[:-1])*.5\n",
    "\n",
    "lc_type = 'c_rand'\n",
    "lc_type_f = 'f_rand'\n",
    "\n",
    "sum_area_model_dict_bkgSubs_ids = {}\n",
    "sum_area_model_dict_bkgSubs_indiv_ids = {}\n",
    "oneSigmaUp_sum_area_model_dict_bkgSubs_ids = {}\n",
    "oneSigmaLow_sum_area_model_dict_bkgSubs_ids = {}\n",
    "\n",
    "dict_lst = [ sum_area_model_dict_bkgSubs_ids, \n",
    "             sum_area_model_dict_bkgSubs_indiv_ids, \n",
    "             oneSigmaUp_sum_area_model_dict_bkgSubs_ids,\n",
    "             oneSigmaLow_sum_area_model_dict_bkgSubs_ids ]\n",
    "\n",
    "for id_obj in id_lst:\n",
    "    print(f'{id_obj}')\n",
    "    out = fun_sum_area.get_sum_bkg_subs_and_ci(\n",
    "                                               xplot,\n",
    "                                               lc_type, \n",
    "                                               lc_type_f, \n",
    "                                               corename,\n",
    "                                               bands, \n",
    "                                               sum_area_model_dict_ids[id_obj], \n",
    "                                               sum_area_field_model_suffle_dict_ids[id_obj],\n",
    "                                               l_lim=0.16,\n",
    "                                               u_lim=0.84,\n",
    "                                              )\n",
    "    for loop, elem in enumerate(out):\n",
    "        dict_lst[loop].update({f'{id_obj}': elem})"
   ]
  },
  {
   "cell_type": "markdown",
   "id": "3f5fb04d",
   "metadata": {},
   "source": [
    "# Mean radial distribution"
   ]
  },
  {
   "cell_type": "code",
   "execution_count": null,
   "id": "edec4613",
   "metadata": {
    "ExecuteTime": {
     "end_time": "2024-06-10T09:17:53.490536Z",
     "start_time": "2024-06-10T09:17:53.468877Z"
    }
   },
   "outputs": [],
   "source": [
    "for id_obj in id_lst[:1]:\n",
    "    print(id_obj)\n",
    "    m_id = lc_sample_list_csv[f'{id_obj}']['c_rand'][0]['id'] == int(id_obj)\n",
    "    cvir = 10.0**(0.7) \n",
    "    Mvir = float(10**lc_sample_list_csv[f'{id_obj}']['c_rand'][0][m_id]['lgm'])\n",
    "    print('lgM_vir=', np.log10(Mvir))\n",
    "    print('R_vir (comoving kpc/h)=',float(lc_sample_list_csv[f'{id_obj}']['c_rand'][0][m_id]['r']) )\n",
    "    M200c, R200c, c200c = mass_defs.changeMassDefinition(Mvir, \n",
    "                                                         cvir, \n",
    "                                                         desire_redshift,\n",
    "                                                         'vir', \n",
    "                                                         '200c')\n",
    "    M200c, R500c, c200c = mass_defs.changeMassDefinition(Mvir, \n",
    "                                                         cvir, \n",
    "                                                         desire_redshift,\n",
    "                                                         'vir', \n",
    "                                                         '500c')\n",
    "    \n",
    "    R500c = R500c/cosmo.h\n",
    "    R200c = R200c/cosmo.h\n",
    "    rvir = float(lc_sample_list_csv[f'{id_obj}']['c_rand'][0][m_id]['r'])/cosmo.h/(1+0.97)"
   ]
  },
  {
   "cell_type": "code",
   "execution_count": null,
   "id": "turkish-holly",
   "metadata": {
    "ExecuteTime": {
     "end_time": "2024-06-10T09:17:53.838755Z",
     "start_time": "2024-06-10T09:17:53.492365Z"
    }
   },
   "outputs": [],
   "source": [
    "with plt.style.context('default'):\n",
    "    fig = plt.figure(figsize=(6, 5), dpi=150)\n",
    "    ax = fig.add_subplot(111)\n",
    "    \n",
    "    xplot = (np.arange(0, 5.5, .5)[1:] + np.arange(0, 5.5, .5)[:-1])*.5\n",
    "    \n",
    "    color_model = ['tab:orange', 'tab:green']\n",
    "    markers = ['o', 's', '^']\n",
    "    model_names  = ['Model 1', 'Model 2']\n",
    "    jet = cm = plt.get_cmap('plasma') \n",
    "    values = np.arange(0, 10, 1)\n",
    "    cNorm  = mp_colors.Normalize(vmin=0, vmax=values[-1])\n",
    "    scalarMap = cmx.ScalarMappable(norm=cNorm, cmap=jet)\n",
    "    \n",
    "    ax.fill_between([], [],\n",
    "                    alpha=0.5,\n",
    "                    color='k',\n",
    "                    label='86% c.i.'\n",
    "    )\n",
    "    \n",
    "    id_clust = id_lst[0]\n",
    "    name_clust = 'pl26'\n",
    "    energy_band = 'full'\n",
    "    lc_type = 'c_rand'\n",
    "    lc_type_f = 'f_rand'\n",
    "    \n",
    "    ax.errorbar(rad_distrib_obs[f'{name_clust}_{energy_band}'].anulii[:-1], \n",
    "                rad_distrib_obs[f'{name_clust}_{energy_band}'].Nagn[:-1],\n",
    "                yerr=rad_distrib_obs[f'{name_clust}_{energy_band}'].e_Nagn[:-1],\n",
    "                marker='s',\n",
    "                capsize=6,\n",
    "                ms=8,\n",
    "                color='k',\n",
    "                label='Observations'\n",
    "               )\n",
    "    for loop_model, sum_area_loop in enumerate(sum_area_model_dict_ids[id_clust][name_clust][energy_band][lc_type][:2]):\n",
    "        ax.fill_between(xplot[:8],\n",
    "                        np.array(oneSigmaLow_sum_area_model_dict_bkgSubs_ids[id_clust][f'{name_clust}'][f'{energy_band}'][loop_model][:8]),\n",
    "                        np.array(oneSigmaUp_sum_area_model_dict_bkgSubs_ids[id_clust][f'{name_clust}'][f'{energy_band}'][loop_model][:8]),\n",
    "                        color=color_model[loop_model],\n",
    "                        alpha=.25)\n",
    "        \n",
    "        ax.plot(xplot[:8], \n",
    "                sum_area_model_dict_bkgSubs_ids[id_clust][f'{name_clust}'][f'{energy_band}'][loop_model][:8],\n",
    "                marker=markers[loop_model],\n",
    "                lw=3,\n",
    "                ms=0,\n",
    "                color=color_model[loop_model],\n",
    "                label=f'{model_names[loop_model]}',\n",
    "                )\n",
    "        \n",
    "    ax.plot([0,5],[0,0],\n",
    "           ls=':',\n",
    "           lw=1.5,\n",
    "           color='k')\n",
    "    ax.plot([R200c/R500c, R200c/R500c],[-20, 50],\n",
    "           ls='--',\n",
    "           lw=1.5,\n",
    "           color='k')\n",
    "    ax.plot([rvir/R500c, rvir/R500c],[-20, 50],\n",
    "           ls='-.',\n",
    "           lw=1.5,\n",
    "           color='k')\n",
    "\n",
    "    ax.text(R200c/R500c-0.15, 18, '$R_{200c}$/$R_{500}$',rotation='vertical')\n",
    "    ax.text(rvir/R500c+0.075, 18, '$R_{vir}$/$R_{500}$',rotation='vertical')\n",
    "    \n",
    "    ax.tick_params(axis='x', labelsize=12)\n",
    "    ax.tick_params(axis='y', labelsize=12)\n",
    "    \n",
    "    \n",
    "    ax.set_xlabel('r/R$_{500}$', fontsize=16)\n",
    "    ax.set_ylabel('Number AGN', fontsize=16)\n",
    "    \n",
    "    ax.tick_params(axis='x', labelsize=12)\n",
    "    ax.tick_params(axis='y', labelsize=12)\n",
    "    \n",
    "    ax.legend(loc='upper right')\n",
    "    \n",
    "    ax.set_xlim(0, 4)\n",
    "    ax.set_ylim(-10, 25)\n",
    "    ax.grid(True)\n",
    "    ax.set_title(f'Cluster id={id_clust}', fontsize=16)\n",
    "    \n",
    "    fig.tight_layout()\n",
    "    plt.show()"
   ]
  },
  {
   "cell_type": "code",
   "execution_count": null,
   "id": "accessible-receptor",
   "metadata": {
    "ExecuteTime": {
     "end_time": "2024-06-10T09:17:54.342969Z",
     "start_time": "2024-06-10T09:17:53.840701Z"
    }
   },
   "outputs": [],
   "source": [
    "with plt.style.context('default'):\n",
    "    nrows = 2\n",
    "    ncols = 2\n",
    "    fig, ax = plt.subplots(nrows=nrows, ncols=ncols, figsize=[18, 12]) #4, 3\n",
    "    \n",
    "    xplot = (np.arange(0, 5.5, .5)[1:] + np.arange(0, 5.5, .5)[:-1])*.5\n",
    "    \n",
    "    color_model = ['tab:orange', 'tab:green']\n",
    "    model_names  = ['Model 1', 'Model 2'] \n",
    "    markers = ['o', 's', '^']\n",
    "    energy_band = 'full'\n",
    "    lc_type = 'c_rand'\n",
    "    lc_type_f = 'f_rand'\n",
    "    \n",
    "    fs = 26\n",
    "\n",
    "    ax[0,0].fill_between([], [],\n",
    "                         alpha=0.5,\n",
    "                         color='k',\n",
    "                         label='68% c.i.'\n",
    "                         )\n",
    "    for row in range(nrows):\n",
    "        if row == 0:\n",
    "            id_clust = id_lst[0]\n",
    "        else:\n",
    "            id_clust = id_lst[1]\n",
    "            \n",
    "        for col in range(ncols):\n",
    "            if col == 0 :\n",
    "                name_clust = '13469'\n",
    "            else:\n",
    "                name_clust = 'pl26'\n",
    "    \n",
    "            ax[row, col].errorbar(rad_distrib_obs[f'{name_clust}_{energy_band}'].anulii[:-1], \n",
    "                        rad_distrib_obs[f'{name_clust}_{energy_band}'].Nagn[:-1],\n",
    "                        yerr=rad_distrib_obs[f'{name_clust}_{energy_band}'].e_Nagn[:-1],\n",
    "                        marker='s',\n",
    "                        capsize=10,\n",
    "                        ms=16,\n",
    "                        color='k',\n",
    "                        label='Observations'\n",
    "                       )\n",
    "            for loop_model, sum_area_loop in enumerate(sum_area_model_dict_ids[id_clust][name_clust][energy_band][lc_type][:2]):\n",
    "                ax[row, col].fill_between(xplot[:8],\n",
    "                                oneSigmaLow_sum_area_model_dict_bkgSubs_ids[id_clust][f'{name_clust}'][f'{energy_band}'][loop_model][:8],\n",
    "                                oneSigmaUp_sum_area_model_dict_bkgSubs_ids[id_clust][f'{name_clust}'][f'{energy_band}'][loop_model][:8],\n",
    "                                color=color_model[loop_model],\n",
    "                                alpha=.25)\n",
    "                \n",
    "                ax[row, col].plot(xplot[:8], \n",
    "                        sum_area_model_dict_bkgSubs_ids[id_clust][f'{name_clust}'][f'{energy_band}'][loop_model][:8],\n",
    "                        marker=markers[loop_model],\n",
    "                        lw=3,\n",
    "                        ms=0,\n",
    "                        color=color_model[loop_model],\n",
    "                        label=f'{model_names[loop_model]}',\n",
    "                        )\n",
    "                \n",
    "            ax[row, col].plot([0,5],[0,0],\n",
    "                   ls=':',\n",
    "                   lw=1.5,\n",
    "                   color='k')\n",
    "            \n",
    "            ax[row, col].tick_params(axis='x', labelsize=fs)\n",
    "            ax[row, col].tick_params(axis='y', labelsize=fs)\n",
    "            \n",
    "            if row != 0:\n",
    "                ax[row, col].set_xlabel('r/R$_{500}$', fontsize=fs+4)\n",
    "            else:\n",
    "                ax[row, col].set(xticklabels=[])\n",
    "            if col == 0: \n",
    "                ax[row, col].set_ylabel(f'Cluster id={id_clust}\\nNumber AGN', fontsize=fs)\n",
    "            else:\n",
    "                ax[row, col].set(yticklabels=[])\n",
    "            \n",
    "            ax[row, col].tick_params(axis='x', labelsize=fs-2)\n",
    "            ax[row, col].tick_params(axis='y', labelsize=fs-2)\n",
    "            \n",
    "            if np.logical_and(row==0, col==0):\n",
    "                ax[row, col].legend(fontsize=fs-2)\n",
    "            \n",
    "            ax[row, col].set_xlim(0, 4)\n",
    "            ax[row, col].set_ylim(-10, 25)\n",
    "            ax[row, col].grid(True)\n",
    "            \n",
    "            if row == 0:\n",
    "                if col == 0:\n",
    "                    name_ttle = clustname_lst[0]\n",
    "                else:\n",
    "                    name_ttle = clustname_lst[1]\n",
    "            \n",
    "                ax[row, col].set_title(f'{name_ttle}', fontsize=fs+6) #, sensitivity={name_clust}, band={energy_band}\\n\n",
    "    \n",
    "    fig.tight_layout()\n",
    "    plt.show()"
   ]
  },
  {
   "cell_type": "markdown",
   "id": "803d2703",
   "metadata": {},
   "source": [
    "# Individual radial distributions"
   ]
  },
  {
   "cell_type": "code",
   "execution_count": null,
   "id": "contemporary-latin",
   "metadata": {
    "ExecuteTime": {
     "end_time": "2024-06-10T09:17:54.385043Z",
     "start_time": "2024-06-10T09:17:54.345039Z"
    },
    "scrolled": true
   },
   "outputs": [],
   "source": [
    "significance = {}\n",
    "\n",
    "ring_ovrdnst = 4\n",
    "sigma_lim = 1\n",
    "sigma_ring_lim = .5\n",
    "\n",
    "\n",
    "for id_obj in id_lst[:]:\n",
    "    significance.update( { f'{id_obj}': fun_significance.get_peak_signif(\n",
    "        ring_ovrdnst, \n",
    "        corename,\n",
    "        bands, \n",
    "        oneSigmaUp_sum_area_model_dict_bkgSubs_ids[id_obj], \n",
    "        sum_area_model_dict_bkgSubs_indiv_ids[id_obj],\n",
    "        sigma_lim,\n",
    "        sigma_ring_lim\n",
    "    ) } )"
   ]
  },
  {
   "cell_type": "code",
   "execution_count": null,
   "id": "10931a96",
   "metadata": {
    "ExecuteTime": {
     "end_time": "2024-06-10T09:17:54.458292Z",
     "start_time": "2024-06-10T09:17:54.387073Z"
    }
   },
   "outputs": [],
   "source": [
    "lc_w_significant_peak = np.arange(0, 100, 1)[ significance[id_lst[0]][f'{name_clust}'][f'{energy_band}'][1] ]\n",
    "lc_w_significant_peak"
   ]
  },
  {
   "cell_type": "code",
   "execution_count": null,
   "id": "6d3133fd",
   "metadata": {
    "ExecuteTime": {
     "end_time": "2024-06-10T09:18:00.768253Z",
     "start_time": "2024-06-10T09:17:54.461289Z"
    }
   },
   "outputs": [],
   "source": [
    "nrows = 10\n",
    "ncols = 10\n",
    "\n",
    "with plt.style.context('default'):\n",
    "    fig, ax = plt.subplots(nrows=nrows, ncols=ncols, figsize=[30, 30])\n",
    "    \n",
    "    xplot = (np.arange(0, 7.5, .5)[1:] + np.arange(0, 7.5, .5)[:-1])*.5\n",
    "    \n",
    "    lc_counter = 0\n",
    "    color_model = ['tab:orange', 'tab:green']\n",
    "    n_lc = 99\n",
    "    \n",
    "    name_clust = 'pl26'\n",
    "    energy_band = 'full'\n",
    "    lc_type = 'c_rand'\n",
    "    lc_type_f = 'f_rand'\n",
    "    \n",
    "    id_clust = id_lst[0]\n",
    "        \n",
    "    for row  in range(0, nrows):\n",
    "        if lc_counter>n_lc:\n",
    "                break\n",
    "        for column in range(0, ncols):\n",
    "            if lc_counter>n_lc:\n",
    "                break\n",
    "            \n",
    "            for loop_model_, sum_area_loop in enumerate(\n",
    "                sum_area_model_dict_ids[id_clust][name_clust][energy_band][lc_type][:n_lc][:1]\n",
    "            ):\n",
    "                loop_model = -1\n",
    "                \n",
    "                ax[row, column].set_title('lc={}'.format(lc_counter), fontsize=25)\n",
    "                ax[row, column].plot(\n",
    "                                     xplot,\n",
    "                                     sum_area_model_dict_bkgSubs_indiv_ids[id_clust][name_clust][energy_band][loop_model][lc_counter],\n",
    "                                     marker='o',\n",
    "                                     lw=4,\n",
    "                                     ls='-',\n",
    "                                     ms=0,\n",
    "                                     alpha=0.6,\n",
    "                                     label='{}'.format(models[loop_model]),\n",
    "                                     color=color_model[loop_model],\n",
    "                                     rasterized=True\n",
    "                                 )\n",
    "                ax[row, column].errorbar(rad_distrib_obs[f'{name_clust}_{energy_band}'].anulii[:-1], \n",
    "                                         rad_distrib_obs[f'{name_clust}_{energy_band}'].Nagn[:-1],\n",
    "                                         yerr=rad_distrib_obs[f'{name_clust}_{energy_band}'].e_Nagn[:-1],\n",
    "                                         marker='s',\n",
    "                                         capsize=6,\n",
    "                                         ms=8,\n",
    "                                         alpha=0.1,\n",
    "                                         color='k',\n",
    "                                         label='Observations',\n",
    "                                         rasterized=True\n",
    "                                         )\n",
    "                \n",
    "                if np.isin(lc_counter, lc_w_significant_peak):\n",
    "                    ax[row, column].plot(\n",
    "                        xplot,\n",
    "                        sum_area_model_dict_bkgSubs_indiv_ids[id_clust][name_clust][energy_band][loop_model][lc_counter],\n",
    "                        lw=4,\n",
    "                        ls='-',\n",
    "                        ms=0,\n",
    "                        label='{}'.format(models[loop_model]),\n",
    "                        color=color_model[loop_model],\n",
    "                        rasterized=True\n",
    "                    )\n",
    "                    \n",
    "                    ax[row, column].errorbar(rad_distrib_obs[f'{name_clust}_{energy_band}'].anulii[:-1], \n",
    "                                         rad_distrib_obs[f'{name_clust}_{energy_band}'].Nagn[:-1],\n",
    "                                         yerr=rad_distrib_obs[f'{name_clust}_{energy_band}'].e_Nagn[:-1],\n",
    "                                         marker='s',\n",
    "                                         capsize=6,\n",
    "                                         ms=8,\n",
    "                                         alpha=0.75,\n",
    "                                         color='k',\n",
    "                                         label='Observations',\n",
    "                                         rasterized=True\n",
    "                                         )\n",
    "\n",
    "                    ax[row, column].set_facecolor('lightgray')\n",
    "                    ax[row, column].set_title('lc={}'.format(lc_counter), fontsize=30, weight='bold', color='tab:green')\n",
    "    \n",
    "        \n",
    "                 \n",
    "            ax[row, column].tick_params(axis='y', labelsize=15)\n",
    "            ax[row, column].tick_params(axis='x', labelsize=15)\n",
    "            \n",
    "            if column != 0:\n",
    "                ax[row, column].set(yticklabels=[])\n",
    "            else:\n",
    "                ax[row, column].set_ylabel('Number AGN', fontsize=28)\n",
    "            if row < 9: \n",
    "                ax[row, column].set(xticklabels=[])\n",
    "            else:\n",
    "                ax[row, column].set_xlabel('r/R$_{500}$', fontsize=28)\n",
    "        \n",
    "            ax[row, column].set_xlim(0, 4)\n",
    "            ax[row, column].set_ylim(-10, 30)\n",
    "            ax[row, column].grid(True)\n",
    "            \n",
    "            lc_counter += 1\n",
    "            if lc_counter > n_lc:\n",
    "                break\n",
    "    \n",
    "    \n",
    "    fig.suptitle(f'Cluster id={id_clust}, sensitivity map={name_clust.upper()}, band={energy_band}\\n', fontsize=38)\n",
    "    fig.tight_layout()\n",
    "    \n",
    "    plt.show()  "
   ]
  },
  {
   "cell_type": "markdown",
   "id": "e48c1dd9",
   "metadata": {},
   "source": [
    "# Redshift distribution"
   ]
  },
  {
   "cell_type": "code",
   "execution_count": null,
   "id": "dc317d8a",
   "metadata": {
    "ExecuteTime": {
     "end_time": "2024-06-10T09:18:36.836703Z",
     "start_time": "2024-06-10T09:18:00.771466Z"
    },
    "scrolled": true
   },
   "outputs": [],
   "source": [
    "histo_z_lc_sample_dict = {}\n",
    "\n",
    "for id_clst in lc_sample_list_csv:\n",
    "    histo_z_lc_sample_dict.update( { f\"{id_clst}\":{} } )\n",
    "    \n",
    "    for name_clust in corename:\n",
    "        histo_z_lc_sample_dict[id_clst].update( { f\"{name_clust}\":{} } )\n",
    "        \n",
    "        for energy_band in bands:\n",
    "            histo_z_lc_sample_dict[id_clst][name_clust].update( { f\"{energy_band}\":{} } )\n",
    "            \n",
    "            for lc_list in lc_sample_list_csv[ id_lst[0] ]:\n",
    "                if  lc_list == 'c_rand':\n",
    "                    models = ['AMedian', 'GMedian', 'Gauss_mu-2.00_sigma0.50', 'Gauss_mu-1.50_sigma0.25', 'Gauss_mu-1.25_sigma0.10']\n",
    "            \n",
    "                elif lc_list == 'f_rand':\n",
    "                    models = ['AMedian', 'GMedian']\n",
    "                    \n",
    "                else:\n",
    "                    print(\"lc type non recognised\")\n",
    "                    break\n",
    "                print(id_clst, name_clust, energy_band, lc_list)\n",
    "                (sum_area_model_del, del_, hist_z_aux) = fun_sum_area._get_area_sample_lcs(\n",
    "                    lc_sample_list_csv[ id_lst[0] ][lc_list][:], \n",
    "                    annulus_radius_dict[id_lst[0]], \n",
    "                    energy_band,\n",
    "                    models, \n",
    "                    name_clust,\n",
    "                    get_all_feat=True\n",
    "                )\n",
    "                \n",
    "                histo_z_lc_sample_dict[id_clst][name_clust][energy_band].update({f\"{lc_list}\":hist_z_aux})"
   ]
  },
  {
   "cell_type": "code",
   "execution_count": null,
   "id": "fd23dc72",
   "metadata": {
    "ExecuteTime": {
     "end_time": "2024-06-10T09:18:37.069444Z",
     "start_time": "2024-06-10T09:18:36.844085Z"
    }
   },
   "outputs": [],
   "source": [
    "with plt.style.context('default'):\n",
    "    fig = plt.figure(figsize=(8, 5), dpi=100) \n",
    "    ax = fig.add_subplot(111)\n",
    "    \n",
    "    ls_lst = ['-', '--', '-.', '-', '--', '-.', '-', '--', '-.', '-', '--', '-.']\n",
    "    \n",
    "    random_state = 425\n",
    "    rng = np.random.RandomState(random_state )\n",
    "    lc_w_significant_peak_bkg = [ 14, 34, 51, 73, 69, 96, 89]\n",
    "    \n",
    "   \n",
    "    jet = plt.get_cmap('cmr.pride') \n",
    "    values = np.arange(0, len(lc_w_significant_peak_bkg)+4, 1)\n",
    "    cNorm  = mp_colors.Normalize(vmin=0, vmax=values[-1])\n",
    "    scalarMap = cmx.ScalarMappable(norm=cNorm, cmap=jet)\n",
    "    \n",
    "    range_z = np.arange(0, 3., .1)\n",
    "    \n",
    "    for loop, lc_num in enumerate(lc_w_significant_peak_bkg):\n",
    "        colorVal = scalarMap.to_rgba(values[loop])\n",
    "        print()\n",
    "        for ring in np.arange(4, 5, 1):\n",
    "            if ring == 4:\n",
    "                alpha = 1\n",
    "                lw = 2\n",
    "            else:\n",
    "                alpha = .3\n",
    "                lw = 2\n",
    "                \n",
    "            xplot = (range_z[:-1] + range_z[1:])/2\n",
    "            hist_z = np.array(histo_z_lc_sample_dict[id_lst[0]][name_clust][energy_band][lc_type])[0, lc_num, ring, :]  - \\\n",
    "                     np.mean(np.array( histo_z_lc_sample_dict[id_lst[0]][name_clust][energy_band][lc_type_f][0])[:, ring,:], axis=0)\n",
    "            \n",
    "            ax.plot(xplot, \n",
    "                    hist_z,\n",
    "                    lw=3,\n",
    "                    ls=ls_lst[loop],\n",
    "                    label=f'lc = {lc_num}',\n",
    "                    color=colorVal,\n",
    "                    alpha=.75\n",
    "                   )\n",
    "\n",
    "    ax.legend(loc='center left', bbox_to_anchor=(1, .5), fontsize=16, ncol=1)\n",
    "       \n",
    "    ax.plot([0,20],[0,0],\n",
    "             ls=':',\n",
    "             lw=1.5,\n",
    "             color='k')\n",
    "    \n",
    "    z_clust = 0.96\n",
    "    ax.plot([z_clust, z_clust],[-5,20],\n",
    "             ls=':',\n",
    "             lw=1.5,\n",
    "             color='k')\n",
    "    \n",
    "    ax.set_xlabel('z', fontsize=fs)\n",
    "    ax.set_ylabel('N$_{AGN}$', fontsize=fs)\n",
    "    \n",
    "    ax.set_xlim(0, 2.5)\n",
    "    ax.set_ylim(-1.5, 6)\n",
    "    ax.tick_params(axis='both', labelsize=fs-8)\n",
    "    \n",
    "    ax.set_title(f'Ring 4 (2-2.5r$_{{500}}$)', fontsize=30)\n",
    "    \n",
    "    fig.tight_layout()\n",
    "            \n",
    "    plt.show()"
   ]
  },
  {
   "cell_type": "markdown",
   "id": "87d3978a",
   "metadata": {},
   "source": [
    "# Infall population"
   ]
  },
  {
   "cell_type": "code",
   "execution_count": null,
   "id": "60a2a6ab",
   "metadata": {
    "ExecuteTime": {
     "end_time": "2024-06-10T09:18:37.094488Z",
     "start_time": "2024-06-10T09:18:37.071550Z"
    },
    "scrolled": true
   },
   "outputs": [],
   "source": [
    "infall_id = pd.read_csv('./input/id_infall_pop_smMask_mDMmask.csv')\n",
    "infall_id"
   ]
  },
  {
   "cell_type": "code",
   "execution_count": null,
   "id": "297650b3",
   "metadata": {
    "ExecuteTime": {
     "end_time": "2024-06-10T09:18:37.113432Z",
     "start_time": "2024-06-10T09:18:37.096273Z"
    }
   },
   "outputs": [],
   "source": [
    "models_mod = [ 'AMedian-Gauss_mu-2.00_sigma0.50', 'AMedian-Gauss_mu-1.50_sigma0.25', \n",
    "               'AMedian-Gauss_mu-1.25_sigma0.10', 'GMedian-Gauss_mu-2.00_sigma0.50',\n",
    "               'GMedian-Gauss_mu-1.50_sigma0.25', 'GMedian-Gauss_mu-1.25_sigma0.10' ]"
   ]
  },
  {
   "cell_type": "code",
   "execution_count": null,
   "id": "83d231b2",
   "metadata": {
    "ExecuteTime": {
     "end_time": "2024-06-10T09:18:42.270828Z",
     "start_time": "2024-06-10T09:18:37.115999Z"
    }
   },
   "outputs": [],
   "source": [
    "for id_obj in id_lst: \n",
    "    lc_type = 'c_rand'\n",
    "    for lc in lc_sample_list_csv[f'{id_obj}']['c_rand']:\n",
    "        mask_id_infall = np.isin(lc.id, infall_id)\n",
    "        \n",
    "        for new_model in models_mod:\n",
    "            old_model = new_model.split('-')[0]\n",
    "            mod_model = models_mod[0].split('-')[1] + '-' + models_mod[0].split('-')[2]\n",
    "            \n",
    "            for name_clust in corename:\n",
    "                for energy_band in bands:\n",
    "                    lc[f\"area_{new_model}_{energy_band}_{name_clust}\"] = \\\n",
    "                    lc[f\"area_{old_model}_{energy_band}_{name_clust}\"]\n",
    "                    \n",
    "                    lc[f\"flux_pl{new_model}_{energy_band}\"] = \\\n",
    "                    lc[f\"flux_pl{old_model}_{energy_band}\"]\n",
    "                    \n",
    "                    lc[f\"lgLx{new_model}\"] = lc[f\"lgLx{old_model}\"]\n",
    "                    \n",
    "                    lc.loc[mask_id_infall, f\"area_{new_model}_{energy_band}_{name_clust}\"] = \\\n",
    "                    lc[f\"area_{mod_model}_{energy_band}_{name_clust}\"][mask_id_infall ]\n",
    "                    \n",
    "                    lc.loc[mask_id_infall, f\"flux_pl{new_model}_{energy_band}\"] = \\\n",
    "                    lc[f\"flux_pl{mod_model}_{energy_band}\"][mask_id_infall ]\n",
    "                    \n",
    "                    lc.loc[mask_id_infall, f\"lgLx{new_model}\"] = \\\n",
    "                    lc[f\"lgLx{mod_model}\"][mask_id_infall ]\n"
   ]
  },
  {
   "cell_type": "code",
   "execution_count": null,
   "id": "e96fd646",
   "metadata": {
    "ExecuteTime": {
     "end_time": "2024-06-10T09:19:36.127216Z",
     "start_time": "2024-06-10T09:18:42.272658Z"
    },
    "scrolled": true
   },
   "outputs": [],
   "source": [
    "sum_area_model_dict_ids_mod = {}\n",
    "\n",
    "for id_obj in id_lst: \n",
    "    print(f'{id_obj}')\n",
    "    sum_area_model_dict_ids_mod.update(\n",
    "        {\n",
    "         f'{id_obj}': fun_sum_area.sum_area_ids(\n",
    "                                   corename,\n",
    "                                   bands, \n",
    "                                   lc_sample_list_csv[f'{id_obj}'], \n",
    "                                   annulus_radius_dict[id_obj], \n",
    "                                   models_mod, \n",
    "                                   models_f=models_f\n",
    "                    )\n",
    "        }\n",
    ")"
   ]
  },
  {
   "cell_type": "code",
   "execution_count": null,
   "id": "33c9515a",
   "metadata": {
    "ExecuteTime": {
     "end_time": "2024-06-10T09:19:36.371808Z",
     "start_time": "2024-06-10T09:19:36.129687Z"
    }
   },
   "outputs": [],
   "source": [
    "with plt.style.context('default'):\n",
    "    fig = plt.figure(figsize=(6, 5), dpi=150) \n",
    "    ax = fig.add_subplot(111)\n",
    "    \n",
    "    xplot = (np.arange(0, 7.5, .5)[1:] + np.arange(0, 7.5, .5)[:-1])*.5\n",
    "    \n",
    "    color_model = ['tab:orange', 'tab:green']\n",
    "    markers = ['o', 's', '^']\n",
    "    model_names  = ['Model 1', 'Model 2']\n",
    "    jet = cm = plt.get_cmap('plasma') \n",
    "    values = np.arange(0, 10, 1)\n",
    "    cNorm  = mp_colors.Normalize(vmin=0, vmax=values[-1])\n",
    "    scalarMap = cmx.ScalarMappable(norm=cNorm, cmap=jet)\n",
    "    \n",
    "    ax.fill_between([], [],\n",
    "               alpha=0.5,\n",
    "               color='k',\n",
    "               label='68% c.i.'\n",
    "                )\n",
    "    \n",
    "    id_clust = id_lst[0]\n",
    "    name_clust = 'pl26' \n",
    "    energy_band = 'full'\n",
    "    lc_type = 'c_rand'\n",
    "    lc_type_f = 'f_rand'\n",
    "    \n",
    "    ax.errorbar(rad_distrib_obs[f'{name_clust}_{energy_band}'].anulii[:-1], \n",
    "                rad_distrib_obs[f'{name_clust}_{energy_band}'].Nagn[:-1],\n",
    "                yerr=rad_distrib_obs[f'{name_clust}_{energy_band}'].e_Nagn[:-1],\n",
    "                marker='s',\n",
    "                capsize=6,\n",
    "                ms=8,\n",
    "                color='k',\n",
    "                label='Observations'\n",
    "               )\n",
    "    \n",
    "    loop_model = 1\n",
    "    sum_area_loop = sum_area_model_dict_ids[id_clust][name_clust][energy_band][lc_type][loop_model]\n",
    "    \n",
    "    ax.fill_between(xplot[:8],\n",
    "                    oneSigmaLow_sum_area_model_dict_bkgSubs_ids[id_clust][f'{name_clust}'][f'{energy_band}'][loop_model][:8],\n",
    "                    oneSigmaUp_sum_area_model_dict_bkgSubs_ids[id_clust][f'{name_clust}'][f'{energy_band}'][loop_model][:8],\n",
    "                    color=color_model[loop_model],\n",
    "                    alpha=.25)\n",
    "    \n",
    "    ax.plot(xplot[:8], \n",
    "            sum_area_model_dict_bkgSubs_ids[id_clust][f'{name_clust}'][f'{energy_band}'][loop_model][:8],\n",
    "            marker=markers[loop_model],\n",
    "            lw=3,\n",
    "            ms=0,\n",
    "            color=color_model[loop_model],\n",
    "            label=f'{model_names[loop_model]}',\n",
    "            )\n",
    "    \n",
    "    loop_model = 4#5\n",
    "    sum_area_loop = sum_area_model_dict_ids_mod[id_clust][name_clust][energy_band][lc_type][loop_model]\n",
    "\n",
    "    loop_model_f = 1\n",
    "    \n",
    "    up_lim  = []   \n",
    "    low_lim = []\n",
    "    \n",
    "    for annuli_loop, annuli in enumerate(xplot):\n",
    "        up_lim.append(np.quantile(np.array(sum_area_loop)[:,annuli_loop] -\n",
    "                                  np.mean(sum_area_field_model_suffle_dict_ids[id_clust][name_clust][energy_band][lc_type_f][loop_model_f], axis=0)[annuli_loop], .84))\n",
    "        low_lim.append(np.quantile(np.array(sum_area_loop)[:,annuli_loop] -\n",
    "                               np.mean(sum_area_field_model_suffle_dict_ids[id_clust][name_clust][energy_band][lc_type_f][loop_model_f], axis=0)[annuli_loop], .16))\n",
    "    low_lim_model = low_lim\n",
    "    up_lim_model = up_lim \n",
    "        \n",
    "    ax.fill_between(xplot[:8],\n",
    "                    low_lim_model[:8],\n",
    "                    up_lim_model[:8],\n",
    "                    facecolor=\"none\",\n",
    "                    edgecolor='magenta',\n",
    "                    hatch='x',\n",
    "                    linewidth=0.2,\n",
    "                    alpha=1)\n",
    "    \n",
    "    label = 'Gaussian: $\\mu$=-1.25, $\\sigma$=0.1'\n",
    "    ax.plot(xplot[:8], \n",
    "            (np.mean(sum_area_loop, axis=0) - \n",
    "             np.mean(sum_area_field_model_suffle_dict_ids[id_clust][name_clust][energy_band][lc_type_f][loop_model_f], axis=0))[:8],\n",
    "             marker='o',\n",
    "             lw=3,\n",
    "             ms=0,\n",
    "             color='magenta',\n",
    "             label=f'{label}',\n",
    "            )\n",
    "        \n",
    "    ax.plot([0,5],[0,0],\n",
    "           ls=':',\n",
    "           lw=1.5,\n",
    "           color='k')\n",
    "    \n",
    "    ax.tick_params(axis='x', labelsize=12)\n",
    "    ax.tick_params(axis='y', labelsize=12)\n",
    "    \n",
    "    \n",
    "    ax.set_xlabel('r/R$_{500}$', fontsize=16)\n",
    "    ax.set_ylabel('Number AGN', fontsize=16)\n",
    "    \n",
    "    ax.tick_params(axis='x', labelsize=12)\n",
    "    ax.tick_params(axis='y', labelsize=12)\n",
    "    \n",
    "    ax.legend()\n",
    "    \n",
    "    ax.set_xlim(0, 4)\n",
    "    ax.grid(True)\n",
    "    ax.set_title(f'Cluster id={id_clust}', fontsize=16)\n",
    "    \n",
    "    fig.tight_layout()\n",
    "    plt.show()"
   ]
  }
 ],
 "metadata": {
  "kernelspec": {
   "display_name": "condaEnvMock",
   "language": "python",
   "name": "conda-env-mock"
  },
  "language_info": {
   "codemirror_mode": {
    "name": "ipython",
    "version": 3
   },
   "file_extension": ".py",
   "mimetype": "text/x-python",
   "name": "python",
   "nbconvert_exporter": "python",
   "pygments_lexer": "ipython3",
   "version": "3.8.13"
  },
  "toc": {
   "base_numbering": 1,
   "nav_menu": {},
   "number_sections": true,
   "sideBar": true,
   "skip_h1_title": false,
   "title_cell": "Table of Contents",
   "title_sidebar": "Contents",
   "toc_cell": false,
   "toc_position": {
    "height": "calc(100% - 180px)",
    "left": "10px",
    "top": "150px",
    "width": "176.5px"
   },
   "toc_section_display": true,
   "toc_window_display": true
  },
  "toc-autonumbering": true,
  "toc-showcode": false,
  "toc-showmarkdowntxt": false
 },
 "nbformat": 4,
 "nbformat_minor": 5
}
